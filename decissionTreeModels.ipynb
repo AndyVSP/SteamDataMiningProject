{
 "cells": [
  {
   "cell_type": "code",
   "execution_count": null,
   "metadata": {},
   "outputs": [],
   "source": [
    "#import libraries/modules\n",
    "import numpy as np\n",
    "import pandas as pd\n",
    "import matplotlib.pyplot as plt\n",
    "from sklearn.tree import DecisionTreeClassifier, plot_tree, export_text\n",
    "from sklearn.model_selection import train_test_split, StratifiedKFold, cross_val_score, GridSearchCV\n",
    "from sklearn.metrics import accuracy_score"
   ]
  },
  {
   "cell_type": "code",
   "execution_count": null,
   "metadata": {},
   "outputs": [],
   "source": [
    "#set dataframe visualization optio ]ns\n",
    "pd.set_option(\"display.max_columns\", 1000)\n",
    "pd.set_option(\"display.max_rows\", 100)"
   ]
  },
  {
   "cell_type": "markdown",
   "metadata": {},
   "source": [
    "Part 1 - Number of Owners"
   ]
  },
  {
   "cell_type": "code",
   "execution_count": null,
   "metadata": {},
   "outputs": [],
   "source": [
    "#read csv\n",
    "df1 = pd.read_csv(\"data_with_codes.csv\")\n",
    "df1.head(1)"
   ]
  },
  {
   "cell_type": "code",
   "execution_count": null,
   "metadata": {},
   "outputs": [],
   "source": [
    "#set appid as index\n",
    "df1.set_index('steam_appid', inplace=True)"
   ]
  },
  {
   "cell_type": "code",
   "execution_count": null,
   "metadata": {},
   "outputs": [],
   "source": [
    "#select columns with object and drop them\n",
    "object_columns = df1.select_dtypes(include='object').columns\n",
    "df1.drop(columns = object_columns, inplace = True)"
   ]
  },
  {
   "cell_type": "code",
   "execution_count": null,
   "metadata": {},
   "outputs": [],
   "source": [
    "#select features for use in decidion tree\n",
    "x = df1.drop(columns=[\"owners_code\",\"total_recommendations\", \"total_user_reviews\", \"median_playtime\", \"average_playtime\", \"reviews_proportion_negative\", \"reviews_proportion_positive_bin_code\"])"
   ]
  },
  {
   "cell_type": "code",
   "execution_count": null,
   "metadata": {},
   "outputs": [],
   "source": [
    "#select class column\n",
    "y = df1[\"owners_code\"]"
   ]
  },
  {
   "cell_type": "code",
   "execution_count": null,
   "metadata": {},
   "outputs": [],
   "source": [
    "#split traing and testing data\n",
    "x_train, x_test, y_train, y_test = train_test_split(x, y, test_size=0.3, random_state=1, stratify=y)"
   ]
  },
  {
   "cell_type": "code",
   "execution_count": null,
   "metadata": {},
   "outputs": [],
   "source": [
    "#tree model fitted to training data\n",
    "clf = DecisionTreeClassifier(criterion=\"entropy\", random_state=1)\n",
    "clf.fit(x_train, y_train)"
   ]
  },
  {
   "cell_type": "code",
   "execution_count": null,
   "metadata": {},
   "outputs": [],
   "source": [
    "#get list of feature names and class names\n",
    "feature_names = list(x_train.columns)\n",
    "class_names = y_train.unique()\n",
    "lista = []\n",
    "\n",
    "for i in class_names:\n",
    "    i = str(i)\n",
    "    lista.append(i)"
   ]
  },
  {
   "cell_type": "code",
   "execution_count": null,
   "metadata": {},
   "outputs": [],
   "source": [
    "#plot tree\n",
    "plt.figure(figsize=(60, 60))\n",
    "plot_tree(clf, feature_names=feature_names, class_names=lista, filled=True)\n",
    "plt.show()"
   ]
  },
  {
   "cell_type": "code",
   "execution_count": null,
   "metadata": {},
   "outputs": [],
   "source": [
    "#export tree as text\n",
    "tree_text = export_text(clf, feature_names=feature_names)\n",
    "file_path = 'decision_tree_owners.txt'\n",
    "with open(file_path, 'w') as file:\n",
    "    file.write(tree_text)"
   ]
  },
  {
   "cell_type": "code",
   "execution_count": null,
   "metadata": {},
   "outputs": [],
   "source": [
    "#get feature imoritances and sort them in descending order with most important first\n",
    "importances = clf.feature_importances_\n",
    "indices = importances.argsort()[::-1]\n",
    "sorted_features = [feature_names[i] for i in indices]\n",
    "sorted_importances = importances[indices]"
   ]
  },
  {
   "cell_type": "code",
   "execution_count": null,
   "metadata": {},
   "outputs": [],
   "source": [
    "plt.figure(figsize=(60, 60))\n",
    "plt.bar(range(len(importances)), sorted_importances, tick_label=sorted_features)\n",
    "plt.xticks(rotation=90)\n",
    "plt.xlabel('Feature')\n",
    "plt.ylabel('Importance')\n",
    "plt.title('Feature Importance')\n",
    "plt.show()"
   ]
  },
  {
   "cell_type": "code",
   "execution_count": null,
   "metadata": {},
   "outputs": [],
   "source": [
    "#print top 10 most important features\n",
    "for i in range(10):\n",
    "    print(f\"{sorted_features[i]}: {sorted_importances[i]}\")"
   ]
  },
  {
   "cell_type": "code",
   "execution_count": null,
   "metadata": {},
   "outputs": [],
   "source": [
    "#get accuracy of predictions\n",
    "y_predict = clf.predict(x_test)\n",
    "accuracy = accuracy_score(y_test, y_predict)\n",
    "accuracy"
   ]
  },
  {
   "cell_type": "code",
   "execution_count": null,
   "metadata": {},
   "outputs": [],
   "source": [
    "stratified_kfold = StratifiedKFold(n_splits=5, shuffle=True, random_state=1)\n",
    "scores = cross_val_score(clf, x, y, cv=stratified_kfold, scoring='accuracy')\n",
    "scores.mean(), scores.std()"
   ]
  },
  {
   "cell_type": "code",
   "execution_count": null,
   "metadata": {},
   "outputs": [],
   "source": [
    "#Create Grid of Hyperparemeters\n",
    "grid = {\n",
    "    'max_depth': [None, 5, 10, 15],\n",
    "    'min_samples_split': [2, 5, 10, 15],\n",
    "    'min_samples_leaf': [1, 2, 5, 10] }"
   ]
  },
  {
   "cell_type": "code",
   "execution_count": null,
   "metadata": {},
   "outputs": [],
   "source": [
    "#Fit the model with different configurations using the grid search and a crossvalidation of 5\n",
    "grid_search = GridSearchCV(clf, grid, cv=5)\n",
    "grid_search.fit(x_train, y_train)"
   ]
  },
  {
   "cell_type": "code",
   "execution_count": null,
   "metadata": {},
   "outputs": [],
   "source": [
    "#get best parameters\n",
    "best_parameters = grid_search.best_params_\n",
    "best_parameters"
   ]
  },
  {
   "cell_type": "code",
   "execution_count": null,
   "metadata": {},
   "outputs": [],
   "source": [
    "#fit model with best params \n",
    "pruned_dt = DecisionTreeClassifier(criterion=\"entropy\", max_depth= 5, min_samples_leaf= 5, min_samples_split= 2, random_state=1)\n",
    "pruned_dt.fit(x_train, y_train)"
   ]
  },
  {
   "cell_type": "code",
   "execution_count": null,
   "metadata": {},
   "outputs": [],
   "source": [
    "#plot model\n",
    "plt.figure(figsize=(60, 60))\n",
    "plot_tree(pruned_dt, feature_names=feature_names, class_names=lista, filled=True)\n",
    "plt.show()"
   ]
  },
  {
   "cell_type": "code",
   "execution_count": null,
   "metadata": {},
   "outputs": [],
   "source": [
    "#export tree text\n",
    "tree_text = export_text(pruned_dt, feature_names=feature_names)\n",
    "file_path = 'decision_tree_owners_pruned.txt'\n",
    "with open(file_path, 'w') as file:\n",
    "    file.write(tree_text)\n"
   ]
  },
  {
   "cell_type": "code",
   "execution_count": null,
   "metadata": {},
   "outputs": [],
   "source": [
    "#get and sort feature importance\n",
    "importances2 = pruned_dt.feature_importances_\n",
    "indices2 = importances2.argsort()[::-1]\n",
    "sorted_features2 = [feature_names[i] for i in indices2]\n",
    "sorted_importances2 = importances2[indices2]"
   ]
  },
  {
   "cell_type": "code",
   "execution_count": null,
   "metadata": {},
   "outputs": [],
   "source": [
    "#plot importances\n",
    "plt.figure(figsize=(60, 60))\n",
    "plt.bar(range(len(importances2)), sorted_importances2, tick_label=sorted_features2)\n",
    "plt.xticks(rotation=90)\n",
    "plt.xlabel('Feature')\n",
    "plt.ylabel('Importance')\n",
    "plt.title('Feature Importance')\n",
    "plt.show()"
   ]
  },
  {
   "cell_type": "code",
   "execution_count": null,
   "metadata": {},
   "outputs": [],
   "source": [
    "#print top 10\n",
    "for i in range(10):\n",
    "    print(f\"{sorted_features2[i]}: {sorted_importances2[i]}\")"
   ]
  },
  {
   "cell_type": "code",
   "execution_count": null,
   "metadata": {},
   "outputs": [],
   "source": [
    "#get model accuracy\n",
    "y_predict = pruned_dt.predict(x_test)\n",
    "accuracy = accuracy_score(y_test, y_predict)\n",
    "accuracy"
   ]
  },
  {
   "cell_type": "code",
   "execution_count": null,
   "metadata": {},
   "outputs": [],
   "source": [
    "#get model accuracy crossvalidation score\n",
    "scores = cross_val_score(pruned_dt, x, y, cv=stratified_kfold, scoring='accuracy')\n",
    "scores.mean(), scores.std()"
   ]
  },
  {
   "cell_type": "markdown",
   "metadata": {},
   "source": [
    "Part 2 - Proprotion of Positive Ratings"
   ]
  },
  {
   "cell_type": "code",
   "execution_count": null,
   "metadata": {},
   "outputs": [],
   "source": [
    "#df with selected features\n",
    "x2 = df1.drop(columns=[\"reviews_proportion_positive\",\"reviews_proportion_positive_bin_code\", \"reviews_proportion_negative\", \"total_recommendations\", \"proportion_recommended\"])"
   ]
  },
  {
   "cell_type": "code",
   "execution_count": null,
   "metadata": {},
   "outputs": [],
   "source": [
    "#df with slected class\n",
    "y2 = df1[\"reviews_proportion_positive_bin_code\"]"
   ]
  },
  {
   "cell_type": "code",
   "execution_count": null,
   "metadata": {},
   "outputs": [],
   "source": [
    "#training and testing data split\n",
    "x_train2, x_test2, y_train2, y_test2 = train_test_split(x2, y2, test_size=0.3, random_state=1, stratify=y2)"
   ]
  },
  {
   "cell_type": "code",
   "execution_count": null,
   "metadata": {},
   "outputs": [],
   "source": [
    "#fit tree to training data\n",
    "clf2 = DecisionTreeClassifier( criterion=\"entropy\", random_state=1)\n",
    "clf2.fit(x_train2, y_train2)"
   ]
  },
  {
   "cell_type": "code",
   "execution_count": null,
   "metadata": {},
   "outputs": [],
   "source": [
    "#get list of feature names and class names\n",
    "feature_names2 = list(x_train2.columns)\n",
    "class_names2 = y_train2.unique()\n",
    "lista2 = []\n",
    "\n",
    "for i in class_names2:\n",
    "    i = str(i)\n",
    "    lista2.append(i)"
   ]
  },
  {
   "cell_type": "code",
   "execution_count": null,
   "metadata": {},
   "outputs": [],
   "source": [
    "#plot tree\n",
    "plt.figure(figsize=(60, 60))\n",
    "plot_tree(clf2, feature_names=feature_names2, class_names=lista2, filled=True)\n",
    "plt.show()"
   ]
  },
  {
   "cell_type": "code",
   "execution_count": null,
   "metadata": {},
   "outputs": [],
   "source": [
    "#export tree text\n",
    "tree_text2 = export_text(clf2, feature_names=feature_names2)\n",
    "file_path = 'decision_tree_rating.txt'\n",
    "with open(file_path, 'w') as file:\n",
    "    file.write(tree_text)"
   ]
  },
  {
   "cell_type": "code",
   "execution_count": null,
   "metadata": {},
   "outputs": [],
   "source": [
    "#get feature imoritances and sort them in descending order with most important first\n",
    "importances3 = clf2.feature_importances_\n",
    "indices3 = importances3.argsort()[::-1]\n",
    "sorted_features3 = [feature_names2[i] for i in indices3]\n",
    "sorted_importances3 = importances3[indices3]"
   ]
  },
  {
   "cell_type": "code",
   "execution_count": null,
   "metadata": {},
   "outputs": [],
   "source": [
    "#plot importances\n",
    "plt.figure(figsize=(60, 60))\n",
    "plt.bar(range(len(importances3)), sorted_importances3, tick_label=sorted_features3)\n",
    "plt.xticks(rotation=90)\n",
    "plt.xlabel('Feature')\n",
    "plt.ylabel('Importance')\n",
    "plt.title('Feature Importance')\n",
    "plt.show()"
   ]
  },
  {
   "cell_type": "code",
   "execution_count": null,
   "metadata": {},
   "outputs": [],
   "source": [
    "#print top 10\n",
    "for i in range(10):\n",
    "    print(f\"{sorted_features3[i]}: {sorted_importances3[i]}\")"
   ]
  },
  {
   "cell_type": "code",
   "execution_count": null,
   "metadata": {},
   "outputs": [],
   "source": [
    "#get accuracy\n",
    "y_predict2 = clf2.predict(x_test2)\n",
    "accuracy = accuracy_score(y_test2, y_predict2)\n",
    "accuracy"
   ]
  },
  {
   "cell_type": "code",
   "execution_count": null,
   "metadata": {},
   "outputs": [],
   "source": [
    "#cross-validate accuracy\n",
    "stratified_kfold = StratifiedKFold(n_splits=5, shuffle=True, random_state=1)\n",
    "scores = cross_val_score(clf2, x2, y2, cv=stratified_kfold, scoring='accuracy')\n",
    "scores.mean(), scores.std()"
   ]
  },
  {
   "cell_type": "code",
   "execution_count": null,
   "metadata": {},
   "outputs": [],
   "source": [
    "#hyperparameter grid\n",
    "grid = {\n",
    "    'max_depth': [None, 5, 10, 15],\n",
    "    'min_samples_split': [2, 5, 10, 15],\n",
    "    'min_samples_leaf': [1, 2, 5, 10] }"
   ]
  },
  {
   "cell_type": "code",
   "execution_count": null,
   "metadata": {},
   "outputs": [],
   "source": [
    "#grid search\n",
    "grid_search = GridSearchCV(clf2, grid, cv=5)\n",
    "grid_search.fit(x_train2, y_train2)"
   ]
  },
  {
   "cell_type": "code",
   "execution_count": null,
   "metadata": {},
   "outputs": [],
   "source": [
    "#get best parameters from grid search\n",
    "best_parameters = grid_search.best_params_\n",
    "best_parameters"
   ]
  },
  {
   "cell_type": "code",
   "execution_count": null,
   "metadata": {},
   "outputs": [],
   "source": [
    "#fit tree with best paramenters to the training data\n",
    "pruned_dt2 = DecisionTreeClassifier(criterion=\"entropy\", **best_parameters, random_state=1)\n",
    "pruned_dt2.fit(x_train2, y_train2)"
   ]
  },
  {
   "cell_type": "code",
   "execution_count": null,
   "metadata": {},
   "outputs": [],
   "source": [
    "#plot tree\n",
    "plt.figure(figsize=(60, 60))\n",
    "plot_tree(pruned_dt2, feature_names=feature_names2, class_names=lista2, filled=True)\n",
    "plt.show()"
   ]
  },
  {
   "cell_type": "code",
   "execution_count": null,
   "metadata": {},
   "outputs": [],
   "source": [
    "#export tree text\n",
    "tree_text2 = export_text(clf2, feature_names=feature_names2)\n",
    "file_path = 'decision_tree_rating_pruned.txt'\n",
    "with open(file_path, 'w') as file:\n",
    "    file.write(tree_text)"
   ]
  },
  {
   "cell_type": "code",
   "execution_count": null,
   "metadata": {},
   "outputs": [],
   "source": [
    "#get feature imoritances and sort them in descending order with most important first\n",
    "importances4 = pruned_dt2.feature_importances_\n",
    "indices4 = importances4.argsort()[::-1]\n",
    "sorted_features4 = [feature_names2[i] for i in indices4]\n",
    "sorted_importances4 = importances4[indices4]"
   ]
  },
  {
   "cell_type": "code",
   "execution_count": null,
   "metadata": {},
   "outputs": [],
   "source": [
    "#plot importances\n",
    "plt.figure(figsize=(60, 60))\n",
    "plt.bar(range(len(importances4)), sorted_importances4, tick_label=sorted_features4)\n",
    "plt.xticks(rotation=90)\n",
    "plt.xlabel('Feature')\n",
    "plt.ylabel('Importance')\n",
    "plt.title('Feature Importance')\n",
    "plt.show()"
   ]
  },
  {
   "cell_type": "code",
   "execution_count": null,
   "metadata": {},
   "outputs": [],
   "source": [
    "#print top 10\n",
    "for i in range(10):\n",
    "    print(f\"{sorted_features4[i]}: {sorted_importances4[i]}\")"
   ]
  },
  {
   "cell_type": "code",
   "execution_count": null,
   "metadata": {},
   "outputs": [],
   "source": [
    "#get accuracy\n",
    "y_predict2 = pruned_dt2.predict(x_test2)\n",
    "accuracy = accuracy_score(y_test2, y_predict2)\n",
    "accuracy"
   ]
  },
  {
   "cell_type": "code",
   "execution_count": null,
   "metadata": {},
   "outputs": [],
   "source": [
    "#cross-validate accuracy\n",
    "scores = cross_val_score(pruned_dt2, x2, y2, cv=stratified_kfold, scoring='accuracy')\n",
    "scores.mean(), scores.std()"
   ]
  }
 ],
 "metadata": {
  "kernelspec": {
   "display_name": "env1",
   "language": "python",
   "name": "python3"
  },
  "language_info": {
   "codemirror_mode": {
    "name": "ipython",
    "version": 3
   },
   "file_extension": ".py",
   "mimetype": "text/x-python",
   "name": "python",
   "nbconvert_exporter": "python",
   "pygments_lexer": "ipython3",
   "version": "3.12.2"
  }
 },
 "nbformat": 4,
 "nbformat_minor": 2
}
