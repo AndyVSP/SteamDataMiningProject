{
 "cells": [
  {
   "cell_type": "markdown",
   "metadata": {},
   "source": [
    "Data Extraction"
   ]
  },
  {
   "cell_type": "code",
   "execution_count": 1,
   "metadata": {},
   "outputs": [],
   "source": [
    "#Inport libraries/modules\n",
    "import json\n",
    "import numpy as np\n",
    "import pandas as pd\n",
    "import requests\n",
    "from json.decoder import JSONDecodeError"
   ]
  },
  {
   "cell_type": "code",
   "execution_count": 2,
   "metadata": {},
   "outputs": [],
   "source": [
    "#Set dataframe visualization row and column limts\n",
    "pd.set_option(\"display.max_columns\", 1000)\n",
    "pd.set_option(\"display.max_rows\", 100)"
   ]
  },
  {
   "cell_type": "markdown",
   "metadata": {},
   "source": [
    " Part 1 - Steam App IDs"
   ]
  },
  {
   "cell_type": "code",
   "execution_count": 3,
   "metadata": {},
   "outputs": [],
   "source": [
    "#Define Function for making API requests\n",
    "def get_request(url, parameters=None):\n",
    "    try:\n",
    "        response = requests.get(url=url, params=parameters)\n",
    "        #handling request errors\n",
    "    except requests.exceptions.RequestException as e:\n",
    "        #5 second count down to try again\n",
    "        for i in range(5, 0, -1):\n",
    "            print('\\rWaiting... ({})'.format(i), end='')\n",
    "            time.sleep(1)\n",
    "        print('Retrying')\n",
    "        return get_request(url, parameters)\n",
    "\n",
    "    if response:\n",
    "        #handling json decoding errors\n",
    "        try:\n",
    "            return response.json()\n",
    "        except JSONDecodeError as json_error:\n",
    "            print (f'Error decoding JSON for URL: {url}, Parameters: {parameters}')\n",
    "            return None\n",
    "        #if no response wait 10 seconds\n",
    "    else:\n",
    "        print('No response, waiting 10 seconds')\n",
    "        time.sleep(10)\n",
    "        print('Retrying')\n",
    "        return get_request(url, parameters)"
   ]
  },
  {
   "cell_type": "code",
   "execution_count": null,
   "metadata": {},
   "outputs": [],
   "source": [
    "url = \"https://api.steampowered.com/ISteamApps/GetAppList/v2/\"\n",
    "\n",
    "#Use the function with the Steam API URL\n",
    "json_data = get_request(url)\n",
    "\n",
    "#Extract List of JSON data\n",
    "app_list_data = json_data['applist']['apps']\n",
    "\n",
    "#Create DF from JSON data\n",
    "app_list_df = pd.DataFrame(app_list_data)\n",
    "\n",
    "#Select appid, and name, sorting by appid\n",
    "app_list_df = app_list_df[['appid', 'name']].sort_values('appid').reset_index(drop=True)\n",
    "\n",
    "#Export df as csv\n",
    "app_list_df.to_csv('app_list.csv', index=False)\n",
    "\n",
    "#Show df head\n",
    "app_list_df.head()"
   ]
  },
  {
   "cell_type": "markdown",
   "metadata": {},
   "source": [
    "Part 2 - Steam App Data"
   ]
  },
  {
   "cell_type": "code",
   "execution_count": null,
   "metadata": {},
   "outputs": [],
   "source": [
    "#read applist csv as df\n",
    "df = pd.read_csv(\"app_list.csv\")"
   ]
  },
  {
   "cell_type": "code",
   "execution_count": null,
   "metadata": {},
   "outputs": [],
   "source": [
    "#get list of appids\n",
    "app_ids =[]\n",
    "for i in df[\"appid\"]:\n",
    "  app_ids.append(i)\n",
    "\n",
    "print(len(app_ids))"
   ]
  },
  {
   "cell_type": "code",
   "execution_count": null,
   "metadata": {},
   "outputs": [],
   "source": [
    "#df of data already extracted\n",
    "df2 = pd.read_csv(\"steam_app_data.csv\")"
   ]
  },
  {
   "cell_type": "code",
   "execution_count": null,
   "metadata": {},
   "outputs": [],
   "source": [
    "#get app ids that already have data \n",
    "app_ids_done = []\n",
    "for i in df2[\"steam_appid\"]:\n",
    "     app_ids_done.append(i)\n",
    "\n",
    "print(len(app_ids_done))"
   ]
  },
  {
   "cell_type": "code",
   "execution_count": null,
   "metadata": {},
   "outputs": [],
   "source": [
    "#get list of ids that still need to have data extracted \n",
    "#by adding them to new list if they are not in the dataframe with app data\n",
    "app_ids_to_process = []\n",
    "for i in app_ids:\n",
    "    if i not in app_ids_done:\n",
    "        app_ids_to_process.append(i)\n",
    "\n",
    "print(len(app_ids_to_process))"
   ]
  },
  {
   "cell_type": "code",
   "execution_count": null,
   "metadata": {},
   "outputs": [],
   "source": [
    "#function to get app data from Steam API\n",
    "def get_app_data(app_ids_to_process):\n",
    "    app_data = []\n",
    "    for app_id in app_ids_to_process:\n",
    "        url = \"http://store.steampowered.com/api/appdetails/\"\n",
    "        parameters = {\"appids\": app_id}\n",
    "        data = get_request(url, parameters)\n",
    "        #handling responses that are none\n",
    "        if data:\n",
    "            app_details = data.get(str(app_id), {}).get('data', {})\n",
    "            app_data.append(app_details)\n",
    "        else:\n",
    "            app_data.append({})\n",
    "    return app_data"
   ]
  },
  {
   "cell_type": "code",
   "execution_count": null,
   "metadata": {},
   "outputs": [],
   "source": [
    "#making requests in batches of 100 and adding responses to list of dataframes\n",
    "dfs = []\n",
    "for i in range(0, len(app_ids_to_process), 100):\n",
    "    batch_ids = app_ids_to_process[i:i+100]  \n",
    "    batch_data = get_app_data(batch_ids)  \n",
    "    if batch_data: \n",
    "        batch_df = pd.DataFrame(batch_data)  \n",
    "        dfs.append(batch_df) \n",
    "        print(f\"Batch {i//100 + 1} completed.\")\n",
    "print(\"finished\")"
   ]
  },
  {
   "cell_type": "code",
   "execution_count": null,
   "metadata": {},
   "outputs": [],
   "source": [
    "#concatenating batch dataframes into larger one\n",
    "df_new = pd.concat(dfs, ignore_index=True)"
   ]
  },
  {
   "cell_type": "code",
   "execution_count": null,
   "metadata": {},
   "outputs": [],
   "source": [
    "#drop rows with no id\n",
    "df_new = df_new.dropna(subset=['steam_appid'])"
   ]
  },
  {
   "cell_type": "code",
   "execution_count": null,
   "metadata": {},
   "outputs": [],
   "source": [
    "#merge data frame of newly extracted data with priorly extracted one\n",
    "merged_df = pd.concat([df1, df_new], ignore_index=True)"
   ]
  },
  {
   "cell_type": "code",
   "execution_count": null,
   "metadata": {},
   "outputs": [],
   "source": [
    "#export as CSV\n",
    "merged_df.to_csv('steam_app_data.csv', index=False)"
   ]
  },
  {
   "cell_type": "code",
   "execution_count": null,
   "metadata": {},
   "outputs": [],
   "source": [
    "#read csv as df\n",
    "df2 = pd.read_csv(\"steam_app_data.csv\")"
   ]
  },
  {
   "cell_type": "code",
   "execution_count": null,
   "metadata": {},
   "outputs": [],
   "source": [
    "#drop duplicate ids\n",
    "df2 = df2.drop_duplicates(subset=['steam_appid'])"
   ]
  },
  {
   "cell_type": "code",
   "execution_count": null,
   "metadata": {},
   "outputs": [],
   "source": [
    "#count number of games\n",
    "game_count = (df2['type'] == 'game').sum()\n",
    "print(game_count)"
   ]
  },
  {
   "cell_type": "code",
   "execution_count": null,
   "metadata": {},
   "outputs": [],
   "source": [
    "#drop rows that do not have the type game\n",
    "df2 = df2.drop(df2[df2.type != \"game\"].index)"
   ]
  },
  {
   "cell_type": "code",
   "execution_count": null,
   "metadata": {},
   "outputs": [],
   "source": [
    "#export to csv\n",
    "df2.to_csv('steam_app_data.csv', index=False)"
   ]
  },
  {
   "cell_type": "markdown",
   "metadata": {},
   "source": [
    "Part 3 - Steam Spy Data"
   ]
  },
  {
   "cell_type": "code",
   "execution_count": null,
   "metadata": {},
   "outputs": [],
   "source": [
    "#read csv\n",
    "df2 = pd.read_csv(\"steam_app_data.csv\")"
   ]
  },
  {
   "cell_type": "code",
   "execution_count": null,
   "metadata": {},
   "outputs": [],
   "source": [
    "#get list of appids\n",
    "new_app_ids =[]\n",
    "for i in df2[\"steam_appid\"]:\n",
    "  new_app_ids.append(i)\n",
    "\n",
    "print(len(new_app_ids))"
   ]
  },
  {
   "cell_type": "code",
   "execution_count": null,
   "metadata": {},
   "outputs": [],
   "source": [
    "#function for getting steam spy data\n",
    "def get_sspy_app_data(new_app_ids):\n",
    "    app_data = []\n",
    "    for app_id in new_app_ids:\n",
    "        url = \"https://steamspy.com/api.php?request=appdetails\"\n",
    "        parameters = {\"appid\": app_id}\n",
    "        data = get_request(url, parameters)\n",
    "        if data:\n",
    "            app_data.append(data)\n",
    "        else:\n",
    "            app_data.append({})\n",
    "    return app_data"
   ]
  },
  {
   "cell_type": "code",
   "execution_count": null,
   "metadata": {},
   "outputs": [],
   "source": [
    "#getting steamspy data in batches\n",
    "dfs = []\n",
    "for i in range(0, len(new_app_ids), 100):\n",
    "    batch_ids = new_app_ids[i:i+100]\n",
    "    batch_data = get_sspy_app_data(batch_ids)\n",
    "    if batch_data: \n",
    "        batch_df = pd.DataFrame(batch_data)\n",
    "        dfs.append(batch_df) \n",
    "        print(f\"Batch {i//100 + 1} completed.\")\n",
    "print(\"finished\")"
   ]
  },
  {
   "cell_type": "code",
   "execution_count": null,
   "metadata": {},
   "outputs": [],
   "source": [
    "#concatenate batch data\n",
    "df_new2 = pd.concat(dfs, ignore_index=True)"
   ]
  },
  {
   "cell_type": "code",
   "execution_count": null,
   "metadata": {},
   "outputs": [],
   "source": [
    "#export to csv\n",
    "df_new2.to_csv('steam_spy_data.csv', index=False)"
   ]
  },
  {
   "cell_type": "markdown",
   "metadata": {},
   "source": [
    "Part 4 - Merging Data"
   ]
  },
  {
   "cell_type": "code",
   "execution_count": null,
   "metadata": {},
   "outputs": [],
   "source": [
    "#read csv\n",
    "df1 = pd.read_csv(\"steam_app_data.csv\")\n",
    "df2 = pd.read_csv(\"steam_spy_data.csv\")"
   ]
  },
  {
   "cell_type": "code",
   "execution_count": null,
   "metadata": {},
   "outputs": [],
   "source": [
    "#merge data on steam_appid = appid\n",
    "merged_df = pd.merge(df1, df2, left_on='steam_appid', right_on='appid', how='left')"
   ]
  },
  {
   "cell_type": "code",
   "execution_count": null,
   "metadata": {},
   "outputs": [],
   "source": [
    "#drop redundant/time sensitive/irrelevant columns\n",
    "cleaner_merged = merged_df.drop([\"languages\", \"genre\", \"price_overview\", \"developer\", \"publisher\", \"name_y\", \"appid\", \"alternate_appid\", \"ccu\", \"score_rank\", \"fullgame\", \"average_2weeks\", \"median_2weeks\", \"price\", \"discount\", \"userscore\"], axis = 1)"
   ]
  },
  {
   "cell_type": "code",
   "execution_count": null,
   "metadata": {},
   "outputs": [],
   "source": [
    "#export to csv\n",
    "cleaner_merged.to_csv('merged_data.csv', index=False)"
   ]
  }
 ],
 "metadata": {
  "kernelspec": {
   "display_name": "env1",
   "language": "python",
   "name": "python3"
  },
  "language_info": {
   "codemirror_mode": {
    "name": "ipython",
    "version": 3
   },
   "file_extension": ".py",
   "mimetype": "text/x-python",
   "name": "python",
   "nbconvert_exporter": "python",
   "pygments_lexer": "ipython3",
   "version": "3.12.2"
  }
 },
 "nbformat": 4,
 "nbformat_minor": 2
}
